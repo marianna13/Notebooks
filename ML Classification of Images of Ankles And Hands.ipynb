{
  "nbformat": 4,
  "nbformat_minor": 0,
  "metadata": {
    "colab": {
      "name": "Scrape images",
      "provenance": [],
      "collapsed_sections": [],
      "include_colab_link": true
    },
    "kernelspec": {
      "name": "python3",
      "display_name": "Python 3"
    }
  },
  "cells": [
    {
      "cell_type": "markdown",
      "metadata": {
        "id": "view-in-github",
        "colab_type": "text"
      },
      "source": [
        "<a href=\"https://colab.research.google.com/github/marianna13/Notebooks/blob/master/Classify%20Images%20of%20Ankles%20And%20Hands.ipynb\" target=\"_parent\"><img src=\"https://colab.research.google.com/assets/colab-badge.svg\" alt=\"Open In Colab\"/></a>"
      ]
    },
    {
      "cell_type": "code",
      "metadata": {
        "id": "Wl5cHV7XO2cJ",
        "colab_type": "code",
        "colab": {}
      },
      "source": [
        "from bs4 import BeautifulSoup\n",
        "import requests\n",
        "import numpy as np\n",
        "import re\n",
        "import matplotlib.pyplot as plt\n",
        "from PIL import Image\n",
        "from io import BytesIO\n",
        "\n",
        "# create list of names of images to scrape from the web\n",
        "names=['ankles', 'hands']\n",
        "\n",
        "# base url to search images in google\n",
        "url1='https://www.google.com/search?tbm=isch&q='"
      ],
      "execution_count": 0,
      "outputs": []
    },
    {
      "cell_type": "code",
      "metadata": {
        "id": "06GiW64gSkoX",
        "colab_type": "code",
        "colab": {}
      },
      "source": [
        "# create empty dictionary to store images\n",
        "# in format Name_Of_Item --> list of images corresponding to this name\n",
        "\n",
        "images={}\n",
        "\n",
        "# for each item\n",
        "for name in names:\n",
        "  \n",
        "  # get information from web page as html text\n",
        "  page = requests.get(url1+name)\n",
        "  soup = BeautifulSoup(page.text, 'html.parser')\n",
        "  # find all images on the web page\n",
        "  img_tags = soup.find_all('img')\n",
        "\n",
        "  urls = [img['src'] for img in img_tags]\n",
        "  # empty list to store images\n",
        "  f=[]\n",
        " \n",
        "  # add each image to list\n",
        "  for url in urls:\n",
        "\n",
        "    if 'http' not in url:\n",
        "      url = '{}{}'.format(url1, url)\n",
        "\n",
        "    response = requests.get(url)\n",
        "    img = Image.open(BytesIO(response.content))\n",
        "    f.append(img)\n",
        "  \n",
        "  # add to dictionary list of images as values\n",
        "  # and names of items as keys\n",
        "  images[name]=f\n",
        "\n"
      ],
      "execution_count": 0,
      "outputs": []
    },
    {
      "cell_type": "code",
      "metadata": {
        "id": "4_cn8-7rcGhw",
        "colab_type": "code",
        "outputId": "70c29afe-8716-4740-aeed-3f1d5a6066ac",
        "colab": {
          "base_uri": "https://localhost:8080/",
          "height": 305
        }
      },
      "source": [
        "# let's look at one of the scraped images\n",
        "plt.imshow(np.array(images[names[0]][0]))"
      ],
      "execution_count": 0,
      "outputs": [
        {
          "output_type": "execute_result",
          "data": {
            "text/plain": [
              "<matplotlib.image.AxesImage at 0x7fb97f80ed68>"
            ]
          },
          "metadata": {
            "tags": []
          },
          "execution_count": 254
        },
        {
          "output_type": "display_data",
          "data": {
            "image/png": "iVBORw0KGgoAAAANSUhEUgAAAMgAAAD7CAYAAAAvttudAAAABHNCSVQICAgIfAhkiAAAAAlwSFlz\nAAALEgAACxIB0t1+/AAAADh0RVh0U29mdHdhcmUAbWF0cGxvdGxpYiB2ZXJzaW9uMy4xLjEsIGh0\ndHA6Ly9tYXRwbG90bGliLm9yZy8QZhcZAAAgAElEQVR4nO29a5Ak2XUe9t181Ku7+j3vx87uYhfA\ncgGQ4IAADEuGACoE0wzBjmAg+AgFKcOBP5REPRwiYP+Q/MMRZIRCFH446ECQkiGbIYCEaAsBMUhT\nEECJJglg8SSwi90d7MzOzuy8p6ef9crM6x/nOzcrb3VV93TPTHdj74nYzamqrJs3b3Wec8853/mO\nsdYiSJAgW0u03xMIEuQgS3hAggSZIOEBCRJkgoQHJEiQCRIekCBBJkh4QIIEmSAP5QExxnzIGPOi\nMeaCMebjD+MaQYI8CjEPOg9ijIkBvATgrwO4AuBrAH7OWvv8A71QkCCPQJKHMOZPALhgrX0FAIwx\nnwHwYQBjH5ClpSV77ty5B3T5w5L4NA9gDN5rUcgxkg2BtaZyCXclVYbGf6lvDE2t/BL/X/CjPW46\n9vTz6ISra+fuw2y1psM3JXLp0iXcvn17Rz/Aw3hATgF4bej1FQDv9k8yxnwMwMcA4OzZs3juued2\ndbHyh1OR14WVo/s5/cVzq7rVL+b/EYxZy3wPv7aJd/9dADARUAzk3/0NOdamAADdTMaO6nIfMZ+f\nuOgDAGwi95P1cwBAGjU4jrxGGgORfinnRx25hGny+vf5gOt6F/f3teoYMn8ktcrbGX+HJKltcQF9\nXf6pnz9/fseXfBgPyI7EWvspAJ8CgPPnz+/6Ly0vcn9cAKU2sTxG/h+9cV/gecMfVs8d95vGe1CH\nxR41cW6AWpTKi4g/YyQ30RvIg9Os16tf4ue2kGPOG0s5TCfj95oxMi5rDPkwjuWhs7udt1qzvRhO\np1RoKd37dui1fJZxDeKYv/8up/0wnPSrAM4MvT7N94IEOXTyMCzI1wA8ZYx5HPJg/CyAn38I1wEA\nJNFkzVZ4R1/nD1uO+1VuWbx7dbiXnQYAdOEMApI6t0hcg9qU/Kx6r0572oxnyTap0ZDzMv24LVuX\nngH6tKwtN7IMMtjjvKM9WJC84JbR3Q+PW/wOhlbV7OWCeAgPiLU2M8b8HQB/BCAG8C+ttd970NcJ\nEuRRyEPxQay1fwDgDx7G2L5kmehi3Ws634Ofq7LJve85F2TovdF4B8fwzQ73vPkeIlF73dsWxfAg\nOkGuhanu0bu9TQBAw3Z5lvgm6sRbk/N7pb1NeNOxFQtd9PiRGiu98jZpAj+ylO8hrVDQd3IGI9dA\nDP3OOIZlRC+nExXH6Y7mOU5CJj1IkAmyb1GsByWJUydF5WBs1WYk/l6UCiU2Q7bEKRkO4sbQ17Zy\njJJ0DzPfm8xHCWCp1jMJwfY74k2kM8cAAAPqv5RhKsOIX+ycEjm/c+8aAGBmborvW4CWA7n4KxEj\nZjXbqU7EWxMnbl3HhNd3IxqOLjREr94Tf6fcwGTyWco/bWNpQXZ7yV1+L0iQN4QceguiuiHflH32\n2uo9AEB3fUXe74nGM5Zxcet7IxzFWqdh9VzD/awtNPqjVkrOs0kLu5U9BleAxCBh4u/e8h0AwJ2O\nrMVT7/oAAKB1RKLtseZL1MfgsXv3BgDg+T/9fwEAR3g7SZHB0E9pzx0HAPR61KWpJCV1T1/oGnmW\nQX2PiNaqzEvt8n4B5Iy+tWpi3fSPVw2iSevoFBKJS2cWAQCzpx7ndXdnCw7/A8KE0OryXQDAtVd/\nAAC4c/0yAKC3dhsAYOioIhdH1WTyR2/UAy+sexA0Q21yZm5zNeHyuaVJN4luSe5fant8Qvr9FYCJ\nvbsr6wCA1WgGADB39CwAYCmZBgA0pmcBlD92J1sFAFz7gaB/vvqFzwEAjln544/7G0gacm+tYzLW\nSl/WqV2Te9cHY6cPiDvWd78t7REhMN2Sh6DO5GVSk4fZ1lsYpHMAgJmTbwIAnOM8pk89satrhi1W\nkCAT5PBbkESe8bkZ0ZYrdbmlDhVVvSYaJKUGS5lsQk5YRk+shEEOqykzbl0AcYKt4TkMh1pu02K7\ne/1S2/6UibLZue2CCDkxSnHSBgCcmBdL0pwTywEja1L05Z5bLdG4Ta5RzO3oVCSWqJV3UG/IubVY\nLK4loGuWqULrQt1cE88NVgBkTHiIvq7FXpz4PqSoi1Wb4tySWJ11mVPP9rHJeHSDn7UbNc5vdxIs\nSJAgE+TQW5DMijY0NdH+Z8+JU/bq818HACy0RIM1GuKBLt8Vpz2nBUlUtdgIoIOHogrqMzy3KIia\nJVI4Y5jVENBn6AxHEcchDEbUUNVB7iTVxKZDT6jzq2hBhjR9EKZpzGOwIRp/ZUO0/OKTb5F7OirH\nq8uyJsfm5GdOErl3C7G207MnAQCzx8WZ76+I31YvDDIiZjur4ru15o7KPedrqEisS7K1LwL6Cc4H\nMTV3Tmar3ylQvUd4Dn4tkftYZyh3qjHLa4sFTeIc7aaM2Wfoe4O/QdSVNarVaveVNAwWJEiQCXLo\nLYgL8RFSYKix2rPzAIDuhkSx0no1mqLRl/sR4yW/nDb3Xus1XEjTGBgNM/K9Ysyu2NduI9Eh1b6D\nzMHa47pYx/ljJyrXr/twdy9pV+PnzWnxXYoVjl0UqHM9k0T/RDzt7o+sYdxt5p/nuXsv9yzISOx7\nXGRM15KoRWPL9VfQqq7vXitmgwUJEmSCHHoLogrNqCnh3vnI8VMAgEvfl2RYXWttTNWSbD3mzqp7\nyiRYZWgYRniM80HsUOUiQYCu7LUYere0EK7UVb9HYJ6C/bKsj/U+995tgZacfFxi/3Sd0Kh5xUJW\ntatIrUnLs3QEAHDjCiN7OdDml2Jq6YIRs3EWxFlNu7Xmdn5HlpUWZMSKesnFMdeIGJVz11T8ezRU\n1mDVb5TXu63fDBYkSJAJcugtiBMWyFgje+f547Iff+VFFgExG66kA85/cOof910x5fwfz4qVe2To\nByXMgxcZ8UEUgOdpXk30Z5q5ZnSryHrYzGSsmXmBg8yflAhej+cwcFfeluZD+DJtSE5i7qh8/zVa\nmCjLUBjNY9DC5b3KPfnrpz6d7+P5FqcoitLKOEO9tQ9n/Cx8TACiAhFpoU2hFgUwzLuoFd1raXOw\nIEGCTJBDb0FKyhc5FtQgTYLVGm3B5mSbgtVK3N6ffsIWY474ICPQbWq8SMcw3unepCI7cqXIY19R\nX8R9rrkB7v0VJ5blLHrNeyhiiUJNH31M7q29BABY68u5TXc/OqqsDdMISOmvLRwRC5JTQ/cQYaBk\nGLS8BdEEiKsYgJHInZYCRFtbajO0DlHkfeb8HloGL4fiSBucZeGuQZNZxrpImOG97gUcCQQLEiTI\nRDn0FsTjTEPBfWlaE/25eFKyxLdeWeeJ3L8Sv7MXH2RoFtWj8V7DoiQ90+IrDzrv8XiVU+F5iiQm\ngtfmfSQtsZIzp54EAHRoUZAQqWwVfUw/gRrYAf5pMaYXF+TaXDPENQxYyoyB+B5pXPUtVMurjLMk\nIxaksKXfYrb+7jgfxF1L/chYS4s1P2KGIodx5dzdSrAgQYJMkENvQVzFp/oWjGIVRN6ePH0OAHDn\nitSJxAVLMDUqswPxM+h6VK1vxrAkKuoX1oykVCIXzeKInjPltKpjF2UeRGtTsgEaRO3OnxQfpMfy\n0ka9xjHo33CsjPtyl7DmvNszYkESZuRRqzmcVESfpxGJdSnG5Dl2akEw5GsZz4JsJ4WSUTijr/dT\nYt5G5rHHuptgQYIEmSCH3oKMKB9qDKXVbDFLnKSkusmUjMDbj1fG3FkmXUUrDOFr16Hvl+col/AY\nTNMY7iGXO8i1km+AWkO0ente7nHAPEa7oVV7aiW5JmPmX2c+RCvziqSGAtXKQc3852MsiJu/t2a+\nBbHD9+J/17vXkfV0Qn9Ig4TuGqU1t1qHskcO5GBBggSZIIfegsQxq/0si/V5S7YuCNU8kkjO/JNv\nBgDc/PafAwBmqX42WLeNIgcY67fKmk4fInIkaqz34DW6ep5zFKR2wrUfKEot5sfjlVFdY/mKL9J8\nR95nldym1KD013nsS53DHczj3W8TlvJ+Tz5rzpdaGgAGA1ZRsuqypVZAP2edSzp/GgBw6pl3AABe\n+OOXMO0y+LxXjhXX1LdQBK7izqo+lfWtsEPiJjCKGtCjRqVo1ZU21P15MmKWx2IxDSs/88GyfExU\nctfU0GMtznRLqg+Tjvwm8VQbu5FgQYIEmSCH3oL4cW63j+VRNXOLGqQ+JRYj629WvmetHfUKoqrK\nLbPB+rGnX7zISVkDEg1VyTmQ0EQZh4rVcdK0jibvpU7QlY+CHcnojxPFXVFTx3HsImCj85k81LYS\nmRK5XNiRzya9Lu/Px7zRCiNBxDoWPWrka6eRMl8O/QMyIg5KUnmJ9ryEMtfnxKFdvbfCT/ruq9b7\nknP+XKLKK/Bxf39eMsz9cBqGTEoIhIZcxzwg/oMx7gExzRk0GZ6daku4d+Al1PwEmwsRa68PV6hU\nZWCs1WqIIlkXDes6MKKdDGvfTowxbn010afe9ogSoeh2LU6cauL3+edrtOS5gTht8lySNey2MUjl\nSkGCBNlSdm1BjDFnAPxrAMcguvRT1tpPGmMWAHwWwDkAlwB8xFq7vPepbi1joqI+VS9aMwJabC0I\n+cC916WQCpkSMRgM5fUADIcP1SzxoEkwt0WgNtVuRjontTCRKcO6w1zAW92PFhPl1TCrioNjtBaQ\nTElZcUyISLdq2LaEmgNA5MFE1ILUagx0pCkMAxBFrlCYrS3biCXZriQXcIVl5TZYE4BVCxKphdHv\narBELYgDJBI+lDaQ1GUtLEPWubcNNsbc13ZrLxYkA/CPrLXPAHgPgF82xjwD4OMAvmitfQrAF/k6\nSJBDKbu2INbaawCu8d9rxpgXIA08Pwzg/Tzt0wC+DOBX9zTLieI949W6pFKMaEelr0nb4ovk/VsA\ngMxmJXjO+6o63YXLBzJZlzvvnTNREJ6GNNXSFG4vHG2Dv/YpPcdZkKS9hKgpvkceMcGX6fX0Rqr2\n1e/C5ZMlKEFDHMelBfbofLYrqXXvTtDSekdlJbCul/oWGu7VMmq1eBpi1kShwnGUsKOBhOF9tapZ\ntDcn/YH4IMaYcwB+DMBXABzjwwMA1yFbsK2+8zFjzHPGmOdu3br1IKYRJMgDlz1HsYwx0wD+LYC/\nb61dHX5SrbXWmC37LD+wLreqjWKnzRmq5KOvPfUstJBKioqmjkhJ7sa9F2WcPHJ7YAd81K6wLq9V\nLXLSD3yIRKRkbxr1MtYVQDl8vkcV5MMqxvkgen576QQMqThzL7hdujnVqJyvRX1IxzDQbxx7+3aW\nZDuxBhhyPjg9HpXGR62tUg6lmnDlNTXKpXASJgejdApxkwlCwnBMunWB105lTxbEGJNCHo7fsdb+\nPt++YYw5wc9PALi5l2sECbKfspcolgHw2wBesNb+86GPPg/gFwH8Go//bk8z3KG4yJI+8spRTcOi\nEZHatESzZo8KvKJzkVooi0ZIBGxVMY9o99SLTEWe9+K0T2FL+h4nW2syXzM78gMdk9p1+uhpxA3Z\nb2sJrXF9Gt1g1cHjMT7IFlZgXHuD3UaxVHJblIlMr1RhpHAqqZbeKmFEHGlCk0nBRMGWTSQtWRNt\n32AYzdqPROH7APwtAH9pjPkW3/ufIA/G7xpjPgrgVQAf2cM1ggTZV9lLFOtPMU4NAh/c7bj3L9Us\nty9ldIVTpRadnmWZ6VBZp98hd2QM76jRlBHqUd+/MGYExm52mA8ZRy4xPbeIlNox8xLQ7twJFmJ4\nbP9za+2ufQxftvR71B3TUln9TH2SuBp5cogArwRXO2dpmW2c1lFjWUPMojGb7s3NDpn0IEEmyKHH\nYrmc8BhN0XSRqKpGrM0KwG/pLe8BAHzzL76ME23JTG/cEJxWjcQONtPCI42/s+VXSu3utCwjT9q6\nTXuMRwkK4oUstV0TQsff50+Q8VzVWE3G35R4oR/LfLO6WL506STurkorgjaR3Cm1p7WaT6iSVyc0\nsutU6jUN8PRJaNGX+8xNirwmgzYSbUhDiHmhHXMZsct51AiaRxhXKn/6gLZfki0o4fgIhajmNWgN\nEpJs88feYBOkdcLf4xmhLWrOnQTqbO3AvFc7UZKOfcyDBAnywyqH3oLsVlSjKPy9PbuAzqZ0i3VN\nIXvah1v3vqgcxxWxbuXLjJIX8DCuXcA4FC8v3mw20WCprKJwJxFyDw/pBfqgILRuR3BpxgKWkbok\nrdKVjiWEG6Oh/WhcFJVw9TJaaLzX3j0rTZCjl2Xeg4jdOkm4m1Nt1FnWoGsyjqZopxIsSJAgE+QN\na0FUpuZkT7904jRe/Z4gZBaJ4ylYyqrJ7HoiWilmyWekLQF0MEX3elCoGManlhsR5yMVDgRVed9p\nbmrCVqvlLEipHX1/a+trqd1Tv0HbSW+uiu8VmwI56X5qU1Mci3itoaKqyrzM1r6eT/8TRUNoY+tb\nIw835ZG/DVwJLlHHLcGiTbWlFVt7Zha1FkuoHVnD/TdKGpZgQYIEmSBvOAvi75XTGYlcLZ48g5e/\n+5y8yahJn6QGkYNebY1lUnRvXGg2n+/7oNqhf2+XXxhXSaiaO03TofZoW3+31Mx8X8fiUTPS6AoR\nRG9NLEhiM/RJdarX03YNFcQvxu/tfQyZ80WsQVyWbPJYJaV29LCoEsVtZvK6MUvLQbqj1qxQsNZb\nUyV+S69bbO0b7VSCBQkSZIK8YSzIWCRrKhGQqcVjrsY7y1blyFMS7pUzbV5TqDZUH0Sz9fwCyd1c\nfN/Ysp1zVN2b+5l1V6PoRX98xK21diRCM76OXY6qoB2+lad17kj0ruiJJYltjiTyLEBctRw+0bSK\nq3v37mNoNkOEbzoWLUZcPaqFURK4PqNXUy3B080sSiVFk7sAE9ecf6V2bbvI3nbyhnlAfNE/tD57\nnNem2jh65jEAwL0ffBcAYJWfiTy/2YBs6W6bpEBC/jFDk2SaPNP+g4U7x3+YjFcspIVVZa+9ath3\n+MHZLoQ5LjdWQlHkcOPqVfkHE6Jm0HM9yTNWiaUec4rvnJfX3KYgzACRC/MqjF1h79XXI+yILIaq\nsWShya1V3CBTDYbY/qs40l1L2GIFCTJB3rAWREVJf6ZqLZw9J11ib1/4HoCSWymh1u6R7TChttft\nhFoDLbGNPYtiUUD7gjjQ5AilVtWCjCNc8OHnwzLS42+M9rTeP65eflXO5/3kWR9TTdnODPjedL0K\nGx+XINwucVhY4yyIi3mok+5IGvxwrxxbc7Qc3Aor3L+SkNUhyivqRbacz3YSLEiQIBPk0FsQP6R5\nv6IWpIEYs8fE6VNSt7ry5iZVrW18AKTDb/M8pbVReIWxI301RkKxYyzIuAKqKIrGOqDjYR+cpiJo\n6F8s3xYnvaH9EPMMKcGRXVqQSMGg+dbwmvsRH1riS2mFqr5Vc1oSgrW6dsKqwmAKPHiNHyxIkCAT\n5NBbkN1aDpV5ZVOPEqxHsrd94r/4EADgW//+/wIALDHs267LtTIm1vJMvltwDMMgY0IcuSbEBLZB\nuh5HbUN2d5ork8uYjlJIi6ESZa+Xz2sDIbxrRG2X6NM9OKfjkpGJh7bQ9xup8BJf//bXAABrV1+W\n941AaxrTTVxeFiqBt71dGOTv3RFI/Pz81izpuRLNWZYIaETPg7ub+ryL5GlhWZ2UokrR02NpQNyU\n8G1jVhKCteNPy2DE9xeMeultbh3LC9SjQYI8NDn0FuRBiUGp5aYI0Gu2GPvfkMKkfEDL4QWQ/KTf\nKJHB6PUm9WkHRqElqv71/eXLL2Hx5EmZH/fmirJQL8FBS7zqXtMXSMnVl74NAEhZ4NUbyH3GaY7Z\nWRlzeVnObU3Nbjm/sd1sPZjL8PnGI/JWOEihbaxoduK6WFkFTI4DSE6SvfqowYIECTJB3vAWxAxF\n0VVDzZLoem5O9sBF7y4AoM+CIqvlpn5kCltHquzQNXxIyUjewHvtWxCVy9/8Euq5
