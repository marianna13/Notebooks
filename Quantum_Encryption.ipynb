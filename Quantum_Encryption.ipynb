{
  "nbformat": 4,
  "nbformat_minor": 0,
  "metadata": {
    "colab": {
      "name": "Quantum Encryption",
      "provenance": [],
      "authorship_tag": "ABX9TyMNhtrMd7urbE2fQNO4xRzW",
      "include_colab_link": true
    },
    "kernelspec": {
      "name": "python3",
      "display_name": "Python 3"
    }
  },
  "cells": [
    {
      "cell_type": "markdown",
      "metadata": {
        "id": "view-in-github",
        "colab_type": "text"
      },
      "source": [
        "<a href=\"https://colab.research.google.com/github/marianna13/Notebooks/blob/master/Quantum_Encryption.ipynb\" target=\"_parent\"><img src=\"https://colab.research.google.com/assets/colab-badge.svg\" alt=\"Open In Colab\"/></a>"
      ]
    },
    {
      "cell_type": "code",
      "metadata": {
        "id": "rPWMqfd19S6Y",
        "colab_type": "code",
        "colab": {
          "base_uri": "https://localhost:8080/",
          "height": 34
        },
        "outputId": "f602a08b-fa98-4e16-df6e-9ca32716084e"
      },
      "source": [
        "from projectq.ops import  H, Measure\n",
        "from projectq import MainEngine\n",
        "\n",
        "\n",
        "def get_random_number(quantum_engine):\n",
        "    '''\n",
        "       This function generates a random number between 0 and 1\n",
        "       by applying a Hadamard gate, putting in superposition \n",
        "       and then measuring a newly created qubit\n",
        "    '''\n",
        "    qubit = quantum_engine.allocate_qubit()\n",
        "    H | qubit\n",
        "    Measure | qubit\n",
        "    random_number = int(qubit)\n",
        "    return random_number\n",
        "\n",
        "def generate():\n",
        "    '''\n",
        "       This function generates a random number between 0 and 9\n",
        "    '''\n",
        "    random_numbers_list = []\n",
        "    for i in range(10):\n",
        "       random_numbers_list.append(get_random_number(quantum_engine))\n",
        "    return sum(random_numbers_list)\n",
        "\n",
        "# initialises a new quantum backend\n",
        "quantum_engine = MainEngine()\n",
        "\n",
        "# for loop generates 32 random digits which we will use as a key\n",
        "digits=''\n",
        "for i in range(32):\n",
        "  digit = generate()\n",
        "  digits+=str(digit)\n",
        "\n",
        "print(digits)\n",
        "\n",
        "\n",
        "# Flushes the quantum engine from memory\n",
        "quantum_engine.flush()"
      ],
      "execution_count": 38,
      "outputs": [
        {
          "output_type": "stream",
          "text": [
            "55677462466664566435577177565356\n"
          ],
          "name": "stdout"
        }
      ]
    },
    {
      "cell_type": "code",
      "metadata": {
        "id": "ObUuwVjWK7a-",
        "colab_type": "code",
        "outputId": "1129c1e5-1e27-4b47-c83b-ece119a8301b",
        "colab": {
          "base_uri": "https://localhost:8080/",
          "height": 54
        }
      },
      "source": [
        "from cryptography.fernet import Fernet\n",
        "import numpy as np\n",
        "import base64\n",
        "\n",
        "\n",
        "# Encode generated digiys to use them as key\n",
        "digits= digits.encode('utf-8')\n",
        "key = base64.b64encode(digits\n",
        "frn = Fernet(key)\n",
        "\n",
        "# Encrypt a string\n",
        "encrypted = frn.encrypt(b'Quantum Mechanics')\n",
        "encrypted"
      ],
      "execution_count": 39,
      "outputs": [
        {
          "output_type": "execute_result",
          "data": {
            "text/plain": [
              "b'gAAAAABeHC4jLtsZgv6VRFmTTi-dXpmH3bB382MCo_c78rUYXZPBlSsAEm1oUGTSwr3Vriv1jqesRuM58UcIv3n7-YABKIXInGUdm5IErE09IwQ4E2URl_o='"
            ]
          },
          "metadata": {
            "tags": []
          },
          "execution_count": 39
        }
      ]
    }
  ]
}